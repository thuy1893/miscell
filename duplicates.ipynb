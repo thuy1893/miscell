{
 "cells": [
  {
   "cell_type": "code",
   "execution_count": 3,
   "metadata": {},
   "outputs": [
    {
     "data": {
      "text/plain": [
       "True"
      ]
     },
     "execution_count": 3,
     "metadata": {},
     "output_type": "execute_result"
    }
   ],
   "source": [
    "a = [12, 34, 67, 89, 90, 34, 12, 45, 91]\n",
    "def find_dupl(my_list):\n",
    "    '''this finds duplicates in a list'''\n",
    "    for i in my_list:\n",
    "        if my_list.count(i) > 1:\n",
    "            return True\n",
    "find_dupl(a)"
   ]
  },
  {
   "cell_type": "code",
   "execution_count": 4,
   "metadata": {},
   "outputs": [],
   "source": [
    "import pprint"
   ]
  },
  {
   "cell_type": "code",
   "execution_count": 6,
   "metadata": {},
   "outputs": [
    {
     "name": "stdout",
     "output_type": "stream",
     "text": [
      "{'I': 1, 't': 6, ' ': 13, 'w': 2, 'a': 4, 's': 3, 'b': 1, 'r': 5, 'i': 6, 'g': 2, 'h': 3, 'c': 3, 'o': 2, 'l': 3, 'd': 3, 'y': 1, 'n': 4, 'A': 1, 'p': 1, ',': 1, 'e': 5, 'k': 2, '.': 1}\n"
     ]
    }
   ],
   "source": [
    "message = 'It was a bright cold day in April, and the clocks were striking thirteen.'\n",
    "count = {}\n",
    "\n",
    "for character in message:\n",
    "    count.setdefault(character, 0)\n",
    "    count[character] = count[character] + 1\n",
    "\n",
    "print(count)"
   ]
  },
  {
   "cell_type": "code",
   "execution_count": 7,
   "metadata": {},
   "outputs": [
    {
     "data": {
      "text/plain": [
       "'/home/thuy/learning.python/my_venv/thuy'"
      ]
     },
     "execution_count": 7,
     "metadata": {},
     "output_type": "execute_result"
    }
   ],
   "source": [
    "import os\n",
    "os.getcwd()"
   ]
  },
  {
   "cell_type": "code",
   "execution_count": 8,
   "metadata": {},
   "outputs": [
    {
     "data": {
      "text/plain": [
       "['etc',\n",
       " 'bin',\n",
       " '.ipynb_checkpoints',\n",
       " '2020input-1.txt',\n",
       " 'Untitled.ipynb',\n",
       " 'pyvenv.cfg',\n",
       " '.gitignore',\n",
       " 'lib',\n",
       " 'share']"
      ]
     },
     "execution_count": 8,
     "metadata": {},
     "output_type": "execute_result"
    }
   ],
   "source": [
    "os.listdir()"
   ]
  },
  {
   "cell_type": "code",
   "execution_count": 9,
   "metadata": {},
   "outputs": [],
   "source": [
    "my_list2 = os.listdir()"
   ]
  },
  {
   "cell_type": "code",
   "execution_count": 10,
   "metadata": {},
   "outputs": [
    {
     "name": "stdout",
     "output_type": "stream",
     "text": [
      "['etc', 'bin', '.ipynb_checkpoints', '2020input-1.txt', 'Untitled.ipynb', 'pyvenv.cfg', '.gitignore', 'lib', 'share']\n"
     ]
    }
   ],
   "source": [
    "print(my_list2)"
   ]
  },
  {
   "cell_type": "code",
   "execution_count": 18,
   "metadata": {},
   "outputs": [],
   "source": [
    "with open(\"2020input-1.txt\") as f:\n",
    "    my_list3 = [int(i) for i in f]"
   ]
  },
  {
   "cell_type": "code",
   "execution_count": 23,
   "metadata": {},
   "outputs": [
    {
     "name": "stdout",
     "output_type": "stream",
     "text": [
      "{1593: 1, 1575: 1, 1583: 1, 1609: 1, 1835: 1, 2008: 1, 1638: 1, 1396: 1, 1833: 1, 1524: 1, 1778: 1, 1574: 1, 1653: 1, 1962: 1, 1831: 1, 1557: 1, 1847: 1, 1587: 1, 1876: 1, 1914: 1, 1565: 1, 1585: 1, 1713: 1, 35: 1, 1862: 1, 1885: 1, 1735: 1, 1497: 1, 1989: 1, 1871: 1, 1923: 1, 1917: 1, 1719: 1, 1797: 1, 1222: 1, 1493: 1, 1939: 1, 1139: 1, 1260: 1, 1622: 1, 1625: 1, 1683: 1, 1742: 1, 1996: 1, 1579: 1, 1703: 1, 1692: 1, 1920: 1, 1536: 1, 1965: 1, 1936: 1, 1947: 1, 1800: 1, 1556: 1, 1633: 1, 1530: 1, 1612: 1, 1764: 1, 1810: 1, 1845: 1, 1750: 1, 1854: 1, 1973: 1, 1512: 1, 1856: 1, 1568: 1, 1634: 1, 1630: 1, 1602: 1, 1555: 1, 1681: 1, 1844: 1, 1544: 1, 1909: 1, 1690: 1, 1851: 1, 1785: 1, 863: 1, 1866: 1, 1988: 1, 1715: 1, 1881: 1, 1570: 1, 1380: 1, 1956: 1, 777: 1, 1693: 1, 1717: 1, 1724: 1, 1975: 1, 790: 1, 1484: 1, 1822: 1, 1922: 1, 1963: 1, 1741: 1, 1809: 1, 1896: 1, 1837: 1, 1980: 1, 1244: 1, 1832: 1, 1834: 1, 1643: 1, 1775: 1, 1818: 1, 1503: 1, 1802: 1, 1957: 1, 1174: 1, 1826: 1, 1649: 1, 1941: 1, 1571: 1, 1930: 1, 1629: 1, 1502: 1, 2002: 1, 1700: 1, 1880: 1, 1723: 1, 1803: 1, 2007: 1, 1543: 1, 1872: 1, 1993: 1, 1740: 1, 1919: 1, 1688: 1, 1067: 1, 1680: 1, 1580: 1, 1558: 1, 1772: 1, 1694: 1, 1480: 1, 1257: 1, 1796: 1, 2001: 1, 537: 1, 1701: 1, 1613: 1, 1784: 1, 1559: 1, 1482: 1, 1968: 1, 1604: 1, 983: 1, 1842: 1, 1817: 1, 1850: 1, 1788: 1, 1982: 1, 1535: 1, 1615: 1, 453: 1, 1895: 1, 1443: 1, 1308: 1, 1533: 1, 1714: 1, 1765: 1, 1037: 1, 1992: 1, 1843: 1, 1883: 1, 1981: 1, 1525: 1, 1038: 1, 1540: 1, 1766: 1, 1886: 1, 1546: 1, 1716: 1, 810: 1, 1899: 1, 1708: 1, 1508: 1, 1870: 1, 1051: 1, 1867: 1, 1840: 1, 1617: 1, 1726: 1, 1566: 1, 1616: 1, 1948: 1, 1771: 1, 1627: 1, 1994: 1, 1486: 1, 1913: 1, 1600: 1, 1983: 1, 1501: 1, 2003: 1, 1667: 1, 1620: 1, 1943: 1, 1674: 1}\n"
     ]
    }
   ],
   "source": [
    "count ={}\n",
    "for i in my_list3:\n",
    "    count.setdefault(i, 0)\n",
    "    count[i] += 1\n",
    "print(count)"
   ]
  },
  {
   "cell_type": "code",
   "execution_count": 35,
   "metadata": {},
   "outputs": [],
   "source": [
    "a_list = ['Hello', 'Ok', 'so','is', 'Ok', 'test', 'this', 'is', 'a', 'test', 'and', 'so', 'so']\n",
    "def getDuplicatesWithCount(list_of_stuff):\n",
    "    ''' Get frequency count of duplicate elements in the given list '''\n",
    "    a_dict = {}\n",
    "    # Iterate over each element in list\n",
    "    for i in list_of_stuff:\n",
    "        # If element exists in dict then increment its value else add it in dict\n",
    "        if i in a_dict:\n",
    "            a_dict[i] += 1\n",
    "        else:\n",
    "            a_dict[i] = 1  \n",
    "    a_dict = { key:value for key, value in a_dict.items() if value > 1}\n",
    "    return a_dict\n"
   ]
  },
  {
   "cell_type": "code",
   "execution_count": 30,
   "metadata": {},
   "outputs": [
    {
     "data": {
      "text/plain": [
       "{'Ok': 2, 'so': 3, 'is': 2, 'test': 2}"
      ]
     },
     "execution_count": 30,
     "metadata": {},
     "output_type": "execute_result"
    }
   ],
   "source": [
    "getDuplicatesWithCount(a_list)"
   ]
  },
  {
   "cell_type": "code",
   "execution_count": 36,
   "metadata": {},
   "outputs": [
    {
     "data": {
      "text/plain": [
       "{12: 2, 34: 4}"
      ]
     },
     "execution_count": 36,
     "metadata": {},
     "output_type": "execute_result"
    }
   ],
   "source": [
    "b_list = [12, 34, 67, 23, 12, 676, 56, 34, 78, 34, 34]\n",
    "getDuplicatesWithCount(b_list)"
   ]
  },
  {
   "cell_type": "code",
   "execution_count": null,
   "metadata": {},
   "outputs": [],
   "source": []
  }
 ],
 "metadata": {
  "kernelspec": {
   "display_name": "Python 3",
   "language": "python",
   "name": "python3"
  },
  "language_info": {
   "codemirror_mode": {
    "name": "ipython",
    "version": 3
   },
   "file_extension": ".py",
   "mimetype": "text/x-python",
   "name": "python",
   "nbconvert_exporter": "python",
   "pygments_lexer": "ipython3",
   "version": "3.7.6"
  }
 },
 "nbformat": 4,
 "nbformat_minor": 4
}
