{
 "cells": [
  {
   "cell_type": "markdown",
   "metadata": {},
   "source": [
    "alpha_vantage API key usage for accessing stock market data\n",
    "Note: to install it, tryp: pip install alpha_vantage"
   ]
  },
  {
   "cell_type": "code",
   "execution_count": 1,
   "metadata": {},
   "outputs": [
    {
     "name": "stdout",
     "output_type": "stream",
     "text": [
      "                     1. open  2. high  3. low  4. close  5. volume\n",
      "date                                                              \n",
      "2021-04-16 20:00:00   160.81    161.0  160.81    160.95     3045.0\n",
      "2021-04-16 19:59:00   160.90    160.9  160.81    160.81      907.0\n",
      "2021-04-16 19:57:00   160.80    160.8  160.80    160.80      144.0\n",
      "2021-04-16 19:56:00   160.30    160.3  160.25    160.30     1381.0\n",
      "2021-04-16 19:55:00   160.25    160.3  160.25    160.25      719.0\n",
      "...                      ...      ...     ...       ...        ...\n",
      "2021-04-05 04:52:00   191.60    191.6  191.60    191.60      970.0\n",
      "2021-04-05 04:47:00   192.00    192.0  192.00    192.00      531.0\n",
      "2021-04-05 04:33:00   192.50    192.5  192.50    192.50      356.0\n",
      "2021-04-05 04:23:00   192.50    192.5  192.50    192.50      252.0\n",
      "2021-04-05 04:01:00   192.00    192.0  190.69    190.69      640.0\n",
      "\n",
      "[6205 rows x 5 columns]\n"
     ]
    }
   ],
   "source": [
    "import pandas as pd\n",
    "from alpha_vantage.timeseries import TimeSeries\n",
    "import time\n",
    "\n",
    "api_key = \"ZX3G4RU7TNSY1ILH\"\n",
    "\n",
    "ts = TimeSeries(key=api_key, output_format='pandas')\n",
    "data, metadata = ts.get_intraday(symbol='GME', interval='1min', outputsize='full')\n",
    "print(data)"
   ]
  },
  {
   "cell_type": "code",
   "execution_count": 19,
   "metadata": {},
   "outputs": [
    {
     "name": "stdout",
     "output_type": "stream",
     "text": [
      "date\n",
      "2021-04-16 20:00:00         NaN\n",
      "2021-04-16 19:59:00   -0.000870\n",
      "2021-04-16 19:57:00   -0.000062\n",
      "2021-04-16 19:56:00   -0.003109\n",
      "2021-04-16 19:55:00   -0.000312\n",
      "                         ...   \n",
      "2021-04-05 04:52:00    0.000000\n",
      "2021-04-05 04:47:00    0.002088\n",
      "2021-04-05 04:33:00    0.002604\n",
      "2021-04-05 04:23:00    0.000000\n",
      "2021-04-05 04:01:00   -0.009403\n",
      "Name: 4. close, Length: 6205, dtype: float64\n"
     ]
    }
   ],
   "source": [
    "i = 1\n",
    "#while i ==1:\n",
    "#    data, metadata = ts.get_intraday(symbol='GME', interval='1min', outputsize='full')\n",
    "#    data.to_csv('GME_output.csv')\n",
    "#    time.sleep(60)\n",
    "\n",
    "close_data = data['4. close'] #close_data = data['date' and '4. close']\n",
    "percentage_change = close_data.pct_change()\n",
    "print(percentage_change)"
   ]
  },
  {
   "cell_type": "code",
   "execution_count": 16,
   "metadata": {},
   "outputs": [
    {
     "name": "stdout",
     "output_type": "stream",
     "text": [
      "-0.009402597402597412\n"
     ]
    }
   ],
   "source": [
    "last_change = percentage_change[-1]\n",
    "print(last_change)"
   ]
  },
  {
   "cell_type": "code",
   "execution_count": 17,
   "metadata": {},
   "outputs": [
    {
     "name": "stdout",
     "output_type": "stream",
     "text": [
      "GME Alert:-0.009402597402597412\n"
     ]
    }
   ],
   "source": [
    "if abs(last_change) > 0.0004:\n",
    "    print(\"GME Alert:\" + str(last_change)) #could insert an email alert here too..."
   ]
  },
  {
   "cell_type": "markdown",
   "metadata": {},
   "source": [
    "problem: according to Derrick Sherrill (https://www.youtube.com/watch?v=d2kXmWzfS0w&list=PLCN-JplaYuP4gDPNweg-bbGwNL36A3Hog&index=8&t=18s), the code above gives out the latest stock value (latest date and time), but here i get the value at the bottom of the table, which is not the latest. Need to solve this..."
   ]
  }
 ],
 "metadata": {
  "kernelspec": {
   "display_name": "Python 3",
   "language": "python",
   "name": "python3"
  },
  "language_info": {
   "codemirror_mode": {
    "name": "ipython",
    "version": 3
   },
   "file_extension": ".py",
   "mimetype": "text/x-python",
   "name": "python",
   "nbconvert_exporter": "python",
   "pygments_lexer": "ipython3",
   "version": "3.7.6"
  }
 },
 "nbformat": 4,
 "nbformat_minor": 4
}
