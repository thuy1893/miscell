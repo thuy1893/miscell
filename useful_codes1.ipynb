{
 "cells": [
  {
   "cell_type": "code",
   "execution_count": 2,
   "metadata": {},
   "outputs": [
    {
     "name": "stdout",
     "output_type": "stream",
     "text": [
      "9973\n"
     ]
    }
   ],
   "source": [
    "def sum(*a): \n",
    "    result = 0 \n",
    "    for i in a: \n",
    "        result = result + i \n",
    "    return result \n",
    "\n",
    "res = sum(12, 678, 345, 7890, 78, 23, 12, 45, 890) \n",
    "print(res) "
   ]
  },
  {
   "cell_type": "code",
   "execution_count": 1,
   "metadata": {},
   "outputs": [
    {
     "name": "stdout",
     "output_type": "stream",
     "text": [
      "gnoT elyK\n"
     ]
    }
   ],
   "source": [
    "name = 'Kyle Tong'\n",
    "reverse = name[::-1]\n",
    "print(reverse)"
   ]
  },
  {
   "cell_type": "code",
   "execution_count": 15,
   "metadata": {},
   "outputs": [
    {
     "data": {
      "text/plain": [
       "[23, 11, 2]"
      ]
     },
     "execution_count": 15,
     "metadata": {},
     "output_type": "execute_result"
    }
   ],
   "source": [
    "#If you only want to extract positive integers, try the following:\n",
    "str = \"h3110 23 cat 444.4 rabbit 11 2 dog\"\n",
    "[int(s) for s in str.split() if s.isdigit()]\n"
   ]
  },
  {
   "cell_type": "code",
   "execution_count": 2,
   "metadata": {},
   "outputs": [
    {
     "name": "stdout",
     "output_type": "stream",
     "text": [
      "GOOD\n",
      "GOOD\n",
      "GOOD\n",
      "GOOD\n",
      "GOOD\n",
      "GOOD\n",
      "GOOD\n",
      "GOOD\n"
     ]
    }
   ],
   "source": [
    "import re\n",
    "\n",
    "# Format is [(<string>, <expected output>), ...]\n",
    "ss = [(\"apple-12.34 ba33na fanc-14.23e-2yapple+45e5+67.56E+3\",\n",
    "       ['-12.34', '33', '-14.23e-2', '+45e5', '+67.56E+3']),\n",
    "      ('hello X42 I\\'m a Y-32.35 string Z30',\n",
    "       ['42', '-32.35', '30']),\n",
    "      ('he33llo 42 I\\'m a 32 string -30', \n",
    "       ['33', '42', '32', '-30']),\n",
    "      ('h3110 23 cat 444.4 rabbit 11 2 dog', \n",
    "       ['3110', '23', '444.4', '11', '2']),\n",
    "      ('hello 12 hi 89', \n",
    "       ['12', '89']),\n",
    "      ('4', \n",
    "       ['4']),\n",
    "      ('I like 74,600 commas not,500', \n",
    "       ['74,600', '500']),\n",
    "      ('I like bad math 1+2=.001', \n",
    "       ['1', '+2', '.001'])]\n",
    "\n",
    "for s, r in ss:\n",
    "    rr = re.findall(\"[-+]?[.]?[\\d]+(?:,\\d\\d\\d)*[\\.]?\\d*(?:[eE][-+]?\\d+)?\", s)\n",
    "    if rr == r:\n",
    "        print('GOOD')\n",
    "    else:\n",
    "        print('WRONG', rr, 'should be', r)\n"
   ]
  },
  {
   "cell_type": "code",
   "execution_count": 3,
   "metadata": {},
   "outputs": [
    {
     "name": "stdout",
     "output_type": "stream",
     "text": [
      "['3', '5']\n"
     ]
    }
   ],
   "source": [
    "s = 'hello world3 it is now 5pm'\n",
    "numbers = re.findall('[0-9]+', s)\n",
    "print(numbers)"
   ]
  },
  {
   "cell_type": "code",
   "execution_count": 5,
   "metadata": {},
   "outputs": [
    {
     "name": "stdout",
     "output_type": "stream",
     "text": [
      ".flesym rof eb ot ti deen i ,yad doog a eb ot gniog si yadot\n"
     ]
    }
   ],
   "source": [
    "def reverse(text):\n",
    "    text = text[::-1]\n",
    "    return text\n",
    "\n",
    "name = \"today is going to be a good day, i need it to be for myself.\"\n",
    "print(reverse(name))"
   ]
  },
  {
   "cell_type": "markdown",
   "metadata": {},
   "source": [
    "To create a random sequence of ATCG, use this:"
   ]
  },
  {
   "cell_type": "code",
   "execution_count": 7,
   "metadata": {},
   "outputs": [
    {
     "data": {
      "text/plain": [
       "'ACATAGACGATCTCGGCTGCATGGAAGGGTGCAATACCTCCTGGCTTTGTTCGATGCGTGGTATCAGTATGCAGTGGGCTTGTTTGGACGGAGGTTGGTC'"
      ]
     },
     "execution_count": 7,
     "metadata": {},
     "output_type": "execute_result"
    }
   ],
   "source": [
    "import random\n",
    "\"\".join([random.choice('ACGT') for i in range(100)])"
   ]
  },
  {
   "cell_type": "code",
   "execution_count": 3,
   "metadata": {},
   "outputs": [],
   "source": [
    "seq = \"\".join([random.choice('ACGT') for i in range(1000)]) "
   ]
  },
  {
   "cell_type": "code",
   "execution_count": 4,
   "metadata": {},
   "outputs": [
    {
     "data": {
      "text/plain": [
       "'GCTTTTTGGCCGCGGTCCACGGTTAGCAGTAATGGATCCACCACTAGACCCAAAGAATGACTAGAAAACTTTTCGCTACGCCACATACAACAAGTCTAGAAGAGCCCTTGTGTAGGAGCACTGTCGTCTGGTTCATCTTAACGTCATTCTTGATCCCAGACCCCGCGCCATTGTAATCGACTAACGGTTGATAGACGTAACAATAGATCGGGGATTCTTCTAGTTAAGGCGAAGTGGTTCCTTTTTGGCAGCAGCCGCCTTAGATCTTAGGAACCACAATCCTGTTAGTTTAGTAGCTATGGTCTGGATCGGCGGTTACCCCTTCTAAGCCACTCCAAGTCTAGAGGGGGGCAACGGAGACGACCGGCGTGTTACACGACGACTGACCAATCACCAGACAATCGTATTCATAGTTACCAATATCCCGCGAGCGCACCGTGGCCATGCCGATTGAGGAACAGATTCCCATCGCCCATGACTCGACAGGAATGATTAGCGCTATATCCAGATTAAAACTATGATATGTGCTCGGTGGCAGATAGCTCCATATGTCAGGGGTTCCCTGCAGCTGCCCACTCCAGGCACGGGATCCGGCCTGTACTGATTCCCCAGGTTAGTTACACCAAGTGCATGACAGGATACTAGCGGGCGTAAAGCCTTCAGATTTTATTATTGCCACGAGTCTGAGGTCACGTAGGATCTAACACAGATTTTCACACAAGAACTGGCGTCACTCTACCCGAATACGTTCTAACTCTATTCTAAGTGACACGTCAGCGATACGCGTAACGCAAGATACCAGATTAAACTACGATGGTCTAACTCGTGATGCTCGGGTGGCCCATTGTGGTCGACATAAATCTGGTGAACAGACAGCTAGGCGACCATTCAGGATGCCTATACGGTTGACCCAGTCCTCTGCGCACCGAGCGAACGCAGTACCCTTTTGTCAACCATAGTGCGTGGTCAGAGAACTGGTCAGCCTCTATTCTGCCCTCTA'"
      ]
     },
     "execution_count": 4,
     "metadata": {},
     "output_type": "execute_result"
    }
   ],
   "source": [
    "seq"
   ]
  },
  {
   "cell_type": "code",
   "execution_count": 6,
   "metadata": {},
   "outputs": [
    {
     "name": "stdout",
     "output_type": "stream",
     "text": [
      "ATCTCCCGTCTTATCTCCGACTGGTCAAGAGACTGGTGCGTGATACCAACTGTTTTCCCATGACGCAAGCGAGCCACGCGTCTCCTGACCCAGTTGGCATATCCGTAGGACTTACCAGCGGATCGACAGACAAGTGGTCTAAATACAGCTGGTGTTACCCGGTGGGCTCGTAGTGCTCAATCTGGTAGCATCAAATTAGACCATAGAACGCAATGCGCATAGCGACTGCACAGTGAATCTTATCTCAATCTTGCATAAGCCCATCTCACTGCGGTCAAGAACACACTTTTAGACACAATCTAGGATGCACTGGAGTCTGAGCACCGTTATTATTTTAGACTTCCGAAATGCGGGCGATCATAGGACAGTACGTGAACCACATTGATTGGACCCCTTAGTCATGTCCGGCCTAGGGCACGGACCTCACCCGTCGACGTCCCTTGGGGACTGTATACCTCGATAGACGGTGGCTCGTGTATAGTATCAAAATTAGACCTATATCGCGATTAGTAAGGACAGCTCAGTACCCGCTACCCTTAGACAAGGAGTTAGCCGTACCGGTGCCACGCGAGCGCCCTATAACCATTGATACTTATGCTAACAGACCACTAACCAGTCAGCAGCACATTGTGCGGCCAGCAGAGGCAACGGGGGGAGATCTGAACCTCACCGAATCTTCCCCATTGGCGGCTAGGTCTGGTATCGATGATTTGATTGTCCTAACACCAAGGATTCTAGATTCCGCCGACGACGGTTTTTCCTTGGTGAAGCGGAATTGATCTTCTTAGGGGCTAGATAACAATGCAGATAGTTGGCAATCAGCTAATGTTACCGCGCCCCAGACCCTAGTTCTTACTGCAATTCTACTTGGTCTGCTGTCACGAGGATGTGTTCCCGAGAAGATCTGAACAACATACACCGCATCGCTTTTCAAAAGATCAGTAAGAAACCCAGATCACCACCTAGGTAATGACGATTGGCACCTGGCGCCGGTTTTTCG\n"
     ]
    }
   ],
   "source": [
    "print(reverse(seq))"
   ]
  },
  {
   "cell_type": "code",
   "execution_count": 8,
   "metadata": {},
   "outputs": [
    {
     "name": "stdout",
     "output_type": "stream",
     "text": [
      "200\n"
     ]
    }
   ],
   "source": [
    "#to extract information from a website\n",
    "import requests\n",
    "url = 'https://ftp.ncbi.nlm.nih.gov/refseq/special_requests/taxid2speciesname'\n",
    "response = requests.get(url)\n",
    "print(response.status_code)"
   ]
  },
  {
   "cell_type": "code",
   "execution_count": 12,
   "metadata": {},
   "outputs": [
    {
     "name": "stdout",
     "output_type": "stream",
     "text": [
      "3755\tPrunus dulcis\talmond\n",
      "3760\tPrunus persica\tpeach\n",
      "42229\tPrunus avium\tsweet cherry\n",
      "102107\tPrunus mume\tJapanese apricot\n"
     ]
    }
   ],
   "source": [
    "#print(response.text)\n",
    "for i in (response.text).splitlines(): #without the splitlines() it returns nothing.\n",
    "    if \"Prunus\" in i:\n",
    "        print(i)"
   ]
  },
  {
   "cell_type": "code",
   "execution_count": null,
   "metadata": {},
   "outputs": [],
   "source": []
  }
 ],
 "metadata": {
  "kernelspec": {
   "display_name": "Python 3",
   "language": "python",
   "name": "python3"
  },
  "language_info": {
   "codemirror_mode": {
    "name": "ipython",
    "version": 3
   },
   "file_extension": ".py",
   "mimetype": "text/x-python",
   "name": "python",
   "nbconvert_exporter": "python",
   "pygments_lexer": "ipython3",
   "version": "3.7.6"
  }
 },
 "nbformat": 4,
 "nbformat_minor": 4
}
