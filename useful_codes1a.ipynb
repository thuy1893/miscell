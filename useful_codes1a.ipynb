{
 "cells": [
  {
   "cell_type": "code",
   "execution_count": 11,
   "metadata": {},
   "outputs": [
    {
     "name": "stdout",
     "output_type": "stream",
     "text": [
      "9973\n"
     ]
    }
   ],
   "source": [
    "def sum(*a): \n",
    "    result = 0 \n",
    "    for i in a: \n",
    "        result = result + i \n",
    "    return result \n",
    "\n",
    "res = sum(12, 678, 345, 7890, 78, 23, 12, 45, 890) \n",
    "print(res)"
   ]
  },
  {
   "cell_type": "markdown",
   "metadata": {},
   "source": [
    "Trying to generate a list of random numbers to sum up with the code above. Though the code above has a star before a in brackets, which means that in its current form, can only take a series of numbers, and inputting a list of numbers will yield errors."
   ]
  },
  {
   "cell_type": "code",
   "execution_count": 14,
   "metadata": {},
   "outputs": [
    {
     "data": {
      "text/plain": [
       "[899, 35, 154, 764, 893, 903, 149, 517, 613]"
      ]
     },
     "execution_count": 14,
     "metadata": {},
     "output_type": "execute_result"
    }
   ],
   "source": [
    "import random\n",
    "n = random.sample(range(1000), 9) #select randomly 9 numbers from a range up to 1000.\n",
    "n"
   ]
  },
  {
   "cell_type": "code",
   "execution_count": 16,
   "metadata": {},
   "outputs": [
    {
     "name": "stdout",
     "output_type": "stream",
     "text": [
      "4927\n"
     ]
    }
   ],
   "source": [
    "def sum(a): \n",
    "    result = 0 \n",
    "    for i in a: \n",
    "        result = result + i \n",
    "    return result \n",
    "\n",
    "print(sum(n))"
   ]
  }
 ],
 "metadata": {
  "kernelspec": {
   "display_name": "Python 3",
   "language": "python",
   "name": "python3"
  },
  "language_info": {
   "codemirror_mode": {
    "name": "ipython",
    "version": 3
   },
   "file_extension": ".py",
   "mimetype": "text/x-python",
   "name": "python",
   "nbconvert_exporter": "python",
   "pygments_lexer": "ipython3",
   "version": "3.7.0"
  }
 },
 "nbformat": 4,
 "nbformat_minor": 2
}
