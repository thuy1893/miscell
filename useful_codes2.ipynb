{
 "cells": [
  {
   "cell_type": "code",
   "execution_count": 2,
   "metadata": {},
   "outputs": [
    {
     "name": "stdout",
     "output_type": "stream",
     "text": [
      "9973\n"
     ]
    }
   ],
   "source": [
    "def sum(*a): \n",
    "    result = 0 \n",
    "    for i in a: \n",
    "        result = result + i \n",
    "    return result \n",
    "\n",
    "res = sum(12, 678, 345, 7890, 78, 23, 12, 45, 890) \n",
    "print(res) "
   ]
  },
  {
   "cell_type": "code",
   "execution_count": 1,
   "metadata": {},
   "outputs": [
    {
     "name": "stdout",
     "output_type": "stream",
     "text": [
      "gnoT elyK\n"
     ]
    }
   ],
   "source": [
    "name = 'Kyle Tong'\n",
    "reverse = name[::-1]\n",
    "print(reverse)"
   ]
  },
  {
   "cell_type": "code",
   "execution_count": 15,
   "metadata": {},
   "outputs": [
    {
     "data": {
      "text/plain": [
       "[23, 11, 2]"
      ]
     },
     "execution_count": 15,
     "metadata": {},
     "output_type": "execute_result"
    }
   ],
   "source": [
    "#If you only want to extract positive integers, try the following:\n",
    "str = \"h3110 23 cat 444.4 rabbit 11 2 dog\"\n",
    "[int(s) for s in str.split() if s.isdigit()]\n"
   ]
  },
  {
   "cell_type": "code",
   "execution_count": 2,
   "metadata": {},
   "outputs": [
    {
     "name": "stdout",
     "output_type": "stream",
     "text": [
      "GOOD\n",
      "GOOD\n",
      "GOOD\n",
      "GOOD\n",
      "GOOD\n",
      "GOOD\n",
      "GOOD\n",
      "GOOD\n"
     ]
    }
   ],
   "source": [
    "import re\n",
    "\n",
    "# Format is [(<string>, <expected output>), ...]\n",
    "ss = [(\"apple-12.34 ba33na fanc-14.23e-2yapple+45e5+67.56E+3\",\n",
    "       ['-12.34', '33', '-14.23e-2', '+45e5', '+67.56E+3']),\n",
    "      ('hello X42 I\\'m a Y-32.35 string Z30',\n",
    "       ['42', '-32.35', '30']),\n",
    "      ('he33llo 42 I\\'m a 32 string -30', \n",
    "       ['33', '42', '32', '-30']),\n",
    "      ('h3110 23 cat 444.4 rabbit 11 2 dog', \n",
    "       ['3110', '23', '444.4', '11', '2']),\n",
    "      ('hello 12 hi 89', \n",
    "       ['12', '89']),\n",
    "      ('4', \n",
    "       ['4']),\n",
    "      ('I like 74,600 commas not,500', \n",
    "       ['74,600', '500']),\n",
    "      ('I like bad math 1+2=.001', \n",
    "       ['1', '+2', '.001'])]\n",
    "\n",
    "for s, r in ss:\n",
    "    rr = re.findall(\"[-+]?[.]?[\\d]+(?:,\\d\\d\\d)*[\\.]?\\d*(?:[eE][-+]?\\d+)?\", s)\n",
    "    if rr == r:\n",
    "        print('GOOD')\n",
    "    else:\n",
    "        print('WRONG', rr, 'should be', r)\n"
   ]
  },
  {
   "cell_type": "code",
   "execution_count": 3,
   "metadata": {},
   "outputs": [
    {
     "name": "stdout",
     "output_type": "stream",
     "text": [
      "['3', '5']\n"
     ]
    }
   ],
   "source": [
    "s = 'hello world3 it is now 5pm'\n",
    "numbers = re.findall('[0-9]+', s)\n",
    "print(numbers)"
   ]
  },
  {
   "cell_type": "code",
   "execution_count": 41,
   "metadata": {},
   "outputs": [
    {
     "name": "stdout",
     "output_type": "stream",
     "text": [
      ".retsis ym si hnA\n"
     ]
    }
   ],
   "source": [
    "def reverse(text):\n",
    "    return text[::-1]\n",
    "    \n",
    "name = \"Anh is my sister.\"\n",
    "print(reverse(name))"
   ]
  },
  {
   "cell_type": "markdown",
   "metadata": {},
   "source": [
    "To create a random sequence of ATCG, use this:"
   ]
  },
  {
   "cell_type": "code",
   "execution_count": 3,
   "metadata": {},
   "outputs": [
    {
     "data": {
      "text/plain": [
       "'ACAAAGAGCATCGAAGGGTCATCTTAGGGGTTTCTGTTACTAGGTAACCTTTTACGGTCCAGATGGTTTACTAAGTGCATGTCTTGTACAACTTTTCAAC'"
      ]
     },
     "execution_count": 3,
     "metadata": {},
     "output_type": "execute_result"
    }
   ],
   "source": [
    "import random\n",
    "\"\".join([random.choice('ACGT') for i in range(100)])"
   ]
  },
  {
   "cell_type": "code",
   "execution_count": 42,
   "metadata": {},
   "outputs": [],
   "source": [
    "seq = \"\".join([random.choice('ACGT') for i in range(1000)]) "
   ]
  },
  {
   "cell_type": "code",
   "execution_count": 45,
   "metadata": {},
   "outputs": [],
   "source": [
    "seq ='TTGCGGAGGTCTCCAACCGTTGCTATGTAAAAA'"
   ]
  },
  {
   "cell_type": "code",
   "execution_count": 44,
   "metadata": {},
   "outputs": [
    {
     "name": "stdout",
     "output_type": "stream",
     "text": [
      "TTGCGGAGGTCTCCAACCGTTGCTATGTAAAAACGCTGACAGAGGATTATTCGCGAAACATTATAAATGGTTATGGTTAGTCGCTTATGTGCCCCTCAACACCTGACACGTAGCTTATAGGAAGCCCGTATTTGTTGTAATGCTAGAGGTCGCAGCGAAGCCGTGGTCTCGCCCACAAGTGTAGATGAGTCGTGCTTTACACGATAATCGTGCGCTCGATTAATGACTTAATTATAAACACGCCGACGTTCAGTGCGTTCCCTCTCGTATGGGAGACGGAATCGGTGATTAGAATTCCCATGACAAAACGCAGAGAGACACTCGATCGCGGCCAAGTACGTAGATAGCCAGTAGGGGGTTATCTTTATCAATTGTGGCCGTTATGAAGACCGAGTTTTTAAGTCGCATTGCATACTCAAAAGCACTTGACATATTCCAGCCTCAGTAGTTAAATGGAAGCATGCAGGATGAGTCGAAGAGCGCCCGCTTCTTCGCGGGAAGGAAGCCCTTAGTAAGCATGCAACGCATCGCAGCGATGTAGATCGAGTGCTTTATGAAGCATTCGCGGCACCCTTTCCTACTTGTCCACGGGGATAGACTTGGTGCCAGAAACGGGCTCCGATTATATAACGAACAGTGAAATGCTTTCGTGGAGTAAGATTGTCGGTCCGCCTAACTGCCACGCCGGGTGTACGGCTACATTTTCACTATCGGTATTGACCAAGTGCTTGGGGACATATCTATTCAACAATACAGCCGCGGAAGGCGTTAGTCGCCCTTGCTGCACTAGCGTTATCTGTCAAGTGCGTTCCTAGATGGTTCCTCCCGCATTAGTCTGGATCCTGGCCCGATTGTAAATCCGACGTTTCACATGTACGCCAATGAGTCAGTCAGGCTGGAACGACGGATTACCTACACACAAGTCAAGGTCACATTGACCTAAACTCCATTGTAGCCCTTGCCGTTAACAGGACGCAAGTAGCTTAAAATCAACATGGAG\n"
     ]
    }
   ],
   "source": [
    "print(reverse(seq))"
   ]
  },
  {
   "cell_type": "markdown",
   "metadata": {},
   "source": [
    "Next task would be to replace A with T, T with A, and same between G and C (basically to replace with complement). With my reverse code, i will end up with the reverse complement!!"
   ]
  },
  {
   "cell_type": "code",
   "execution_count": 35,
   "metadata": {},
   "outputs": [],
   "source": [
    "#Replace with complement base\n",
    "\n",
    "def compl(seq, dic):\n",
    "    dic = {\"A\":\"T\", \"T\":\"A\", \"C\":\"G\", \"G\":\"C\"}\n",
    "    for i,j in dic.items():\n",
    "        seq = seq.replace(i, j)\n",
    "        return seq\n",
    "# for i, j in dic.items():\n",
    "#     print(i, j)"
   ]
  },
  {
   "cell_type": "code",
   "execution_count": 36,
   "metadata": {},
   "outputs": [
    {
     "name": "stdout",
     "output_type": "stream",
     "text": [
      "TTTTTTTT\n"
     ]
    }
   ],
   "source": [
    "print(compl(seq, dic)) # Does not work as i wish...this is not doing what i want."
   ]
  },
  {
   "cell_type": "code",
   "execution_count": 37,
   "metadata": {},
   "outputs": [],
   "source": [
    "#The following works, though i do not know exactly understand it:\n",
    "#https://stackoverflow.com/questions/6116978/how-to-replace-multiple-substrings-of-a-string\n",
    "import re\n",
    "def multiple_replace(string, rep_dict):\n",
    "    pattern = re.compile(\"|\".join([re.escape(k) for k in sorted(rep_dict,key=len,reverse=True)]), flags=re.DOTALL)\n",
    "    return pattern.sub(lambda x: rep_dict[x.group(0)], string)"
   ]
  },
  {
   "cell_type": "code",
   "execution_count": 46,
   "metadata": {},
   "outputs": [
    {
     "name": "stdout",
     "output_type": "stream",
     "text": [
      "AACGCCTCCAGAGGTTGGCAACGATACATTTTT\n"
     ]
    }
   ],
   "source": [
    "print(multiple_replace(seq, dic))"
   ]
  },
  {
   "cell_type": "markdown",
   "metadata": {},
   "source": [
    "Now combine both reverse and complementary into one code"
   ]
  },
  {
   "cell_type": "code",
   "execution_count": 47,
   "metadata": {},
   "outputs": [],
   "source": [
    "import re\n",
    "def rev_comp(string, rep_dict):\n",
    "    pattern = re.compile(\"|\".join([re.escape(k) for k in sorted(rep_dict,key=len,reverse=True)]), flags=re.DOTALL)\n",
    "    return pattern.sub(lambda x: rep_dict[x.group(0)], string)[::-1]"
   ]
  },
  {
   "cell_type": "code",
   "execution_count": 48,
   "metadata": {},
   "outputs": [
    {
     "data": {
      "text/plain": [
       "'TTGCGGAGGTCTCCAACCGTTGCTATGTAAAAA'"
      ]
     },
     "execution_count": 48,
     "metadata": {},
     "output_type": "execute_result"
    }
   ],
   "source": [
    "seq"
   ]
  },
  {
   "cell_type": "code",
   "execution_count": 49,
   "metadata": {},
   "outputs": [],
   "source": [
    "dic = {\"A\":\"T\", \"T\":\"A\", \"C\":\"G\", \"G\":\"C\"}"
   ]
  },
  {
   "cell_type": "code",
   "execution_count": 50,
   "metadata": {},
   "outputs": [
    {
     "name": "stdout",
     "output_type": "stream",
     "text": [
      "TTTTTACATAGCAACGGTTGGAGACCTCCGCAA\n"
     ]
    }
   ],
   "source": [
    "print(rev_comp(seq,dic))"
   ]
  },
  {
   "cell_type": "markdown",
   "metadata": {},
   "source": [
    "###############################################################################################\n",
    "to extract information from a website"
   ]
  },
  {
   "cell_type": "code",
   "execution_count": 8,
   "metadata": {},
   "outputs": [
    {
     "name": "stdout",
     "output_type": "stream",
     "text": [
      "200\n"
     ]
    }
   ],
   "source": [
    "#to extract information from a website\n",
    "import requests\n",
    "url = 'https://ftp.ncbi.nlm.nih.gov/refseq/special_requests/taxid2speciesname'\n",
    "response = requests.get(url)\n",
    "print(response.status_code)"
   ]
  },
  {
   "cell_type": "code",
   "execution_count": 12,
   "metadata": {},
   "outputs": [
    {
     "name": "stdout",
     "output_type": "stream",
     "text": [
      "3755\tPrunus dulcis\talmond\n",
      "3760\tPrunus persica\tpeach\n",
      "42229\tPrunus avium\tsweet cherry\n",
      "102107\tPrunus mume\tJapanese apricot\n"
     ]
    }
   ],
   "source": [
    "#print(response.text)\n",
    "for i in (response.text).splitlines(): #without the splitlines() it returns nothing.\n",
    "    if \"Prunus\" in i:\n",
    "        print(i)"
   ]
  },
  {
   "cell_type": "markdown",
   "metadata": {},
   "source": [
    "#################################################################################################\n",
    "Following this tutorial: https://www.youtube.com/watch?v=FXhED53VZ50&list=PLCN-JplaYuP4gDPNweg-bbGwNL36A3Hog&index=52&t=887s\n",
    "Also see this: http://apmonitor.com/che263/index.php/Main/PythonDataAnalysis"
   ]
  },
  {
   "cell_type": "code",
   "execution_count": 4,
   "metadata": {},
   "outputs": [],
   "source": [
    "import pandas as pd\n",
    "data = pd.read_csv(\"apmonitor_data.csv\")"
   ]
  },
  {
   "cell_type": "code",
   "execution_count": 5,
   "metadata": {},
   "outputs": [
    {
     "data": {
      "text/html": [
       "<div>\n",
       "<style scoped>\n",
       "    .dataframe tbody tr th:only-of-type {\n",
       "        vertical-align: middle;\n",
       "    }\n",
       "\n",
       "    .dataframe tbody tr th {\n",
       "        vertical-align: top;\n",
       "    }\n",
       "\n",
       "    .dataframe thead th {\n",
       "        text-align: right;\n",
       "    }\n",
       "</style>\n",
       "<table border=\"1\" class=\"dataframe\">\n",
       "  <thead>\n",
       "    <tr style=\"text-align: right;\">\n",
       "      <th></th>\n",
       "      <th>time</th>\n",
       "      <th>s1</th>\n",
       "      <th>s2</th>\n",
       "      <th>s3</th>\n",
       "      <th>s4</th>\n",
       "      <th>s5</th>\n",
       "      <th>s6</th>\n",
       "      <th>s7</th>\n",
       "      <th>s8</th>\n",
       "    </tr>\n",
       "  </thead>\n",
       "  <tbody>\n",
       "    <tr>\n",
       "      <th>0</th>\n",
       "      <td>1.398489e+09</td>\n",
       "      <td>406.821114</td>\n",
       "      <td>414.7304</td>\n",
       "      <td>373.126443</td>\n",
       "      <td>375.749231</td>\n",
       "      <td>NaN</td>\n",
       "      <td>NaN</td>\n",
       "      <td>NaN</td>\n",
       "      <td>NaN</td>\n",
       "    </tr>\n",
       "    <tr>\n",
       "      <th>1</th>\n",
       "      <td>1.398489e+09</td>\n",
       "      <td>393.779605</td>\n",
       "      <td>390.7304</td>\n",
       "      <td>363.568921</td>\n",
       "      <td>365.364615</td>\n",
       "      <td>NaN</td>\n",
       "      <td>NaN</td>\n",
       "      <td>NaN</td>\n",
       "      <td>NaN</td>\n",
       "    </tr>\n",
       "    <tr>\n",
       "      <th>2</th>\n",
       "      <td>1.398489e+09</td>\n",
       "      <td>370.956963</td>\n",
       "      <td>378.7304</td>\n",
       "      <td>360.383080</td>\n",
       "      <td>358.441538</td>\n",
       "      <td>NaN</td>\n",
       "      <td>NaN</td>\n",
       "      <td>NaN</td>\n",
       "      <td>NaN</td>\n",
       "    </tr>\n",
       "    <tr>\n",
       "      <th>3</th>\n",
       "      <td>1.398489e+09</td>\n",
       "      <td>362.806020</td>\n",
       "      <td>378.7304</td>\n",
       "      <td>360.383080</td>\n",
       "      <td>353.249231</td>\n",
       "      <td>NaN</td>\n",
       "      <td>NaN</td>\n",
       "      <td>NaN</td>\n",
       "      <td>NaN</td>\n",
       "    </tr>\n",
       "    <tr>\n",
       "      <th>4</th>\n",
       "      <td>1.398489e+09</td>\n",
       "      <td>369.326774</td>\n",
       "      <td>390.7304</td>\n",
       "      <td>363.568921</td>\n",
       "      <td>358.441538</td>\n",
       "      <td>NaN</td>\n",
       "      <td>NaN</td>\n",
       "      <td>NaN</td>\n",
       "      <td>NaN</td>\n",
       "    </tr>\n",
       "  </tbody>\n",
       "</table>\n",
       "</div>"
      ],
      "text/plain": [
       "           time          s1        s2          s3          s4  s5  s6  s7  s8\n",
       "0  1.398489e+09  406.821114  414.7304  373.126443  375.749231 NaN NaN NaN NaN\n",
       "1  1.398489e+09  393.779605  390.7304  363.568921  365.364615 NaN NaN NaN NaN\n",
       "2  1.398489e+09  370.956963  378.7304  360.383080  358.441538 NaN NaN NaN NaN\n",
       "3  1.398489e+09  362.806020  378.7304  360.383080  353.249231 NaN NaN NaN NaN\n",
       "4  1.398489e+09  369.326774  390.7304  363.568921  358.441538 NaN NaN NaN NaN"
      ]
     },
     "execution_count": 5,
     "metadata": {},
     "output_type": "execute_result"
    }
   ],
   "source": [
    "data.head()"
   ]
  },
  {
   "cell_type": "code",
   "execution_count": 7,
   "metadata": {},
   "outputs": [],
   "source": [
    "#data.dtypes"
   ]
  },
  {
   "cell_type": "code",
   "execution_count": 8,
   "metadata": {},
   "outputs": [],
   "source": [
    "time = data['time']"
   ]
  },
  {
   "cell_type": "code",
   "execution_count": 9,
   "metadata": {},
   "outputs": [
    {
     "data": {
      "text/plain": [
       "0    1.398489e+09\n",
       "1    1.398489e+09\n",
       "2    1.398489e+09\n",
       "3    1.398489e+09\n",
       "4    1.398489e+09\n",
       "Name: time, dtype: float64"
      ]
     },
     "execution_count": 9,
     "metadata": {},
     "output_type": "execute_result"
    }
   ],
   "source": [
    "time.head()"
   ]
  },
  {
   "cell_type": "code",
   "execution_count": 13,
   "metadata": {},
   "outputs": [],
   "source": [
    "sensors = data.loc[:,'s1':'s4'] #note the first : in the squared brackets means all rows."
   ]
  },
  {
   "cell_type": "code",
   "execution_count": 15,
   "metadata": {},
   "outputs": [
    {
     "data": {
      "text/html": [
       "<div>\n",
       "<style scoped>\n",
       "    .dataframe tbody tr th:only-of-type {\n",
       "        vertical-align: middle;\n",
       "    }\n",
       "\n",
       "    .dataframe tbody tr th {\n",
       "        vertical-align: top;\n",
       "    }\n",
       "\n",
       "    .dataframe thead th {\n",
       "        text-align: right;\n",
       "    }\n",
       "</style>\n",
       "<table border=\"1\" class=\"dataframe\">\n",
       "  <thead>\n",
       "    <tr style=\"text-align: right;\">\n",
       "      <th></th>\n",
       "      <th>s1</th>\n",
       "      <th>s2</th>\n",
       "      <th>s3</th>\n",
       "      <th>s4</th>\n",
       "    </tr>\n",
       "  </thead>\n",
       "  <tbody>\n",
       "    <tr>\n",
       "      <th>0</th>\n",
       "      <td>406.821114</td>\n",
       "      <td>414.7304</td>\n",
       "      <td>373.126443</td>\n",
       "      <td>375.749231</td>\n",
       "    </tr>\n",
       "    <tr>\n",
       "      <th>1</th>\n",
       "      <td>393.779605</td>\n",
       "      <td>390.7304</td>\n",
       "      <td>363.568921</td>\n",
       "      <td>365.364615</td>\n",
       "    </tr>\n",
       "    <tr>\n",
       "      <th>2</th>\n",
       "      <td>370.956963</td>\n",
       "      <td>378.7304</td>\n",
       "      <td>360.383080</td>\n",
       "      <td>358.441538</td>\n",
       "    </tr>\n",
       "    <tr>\n",
       "      <th>3</th>\n",
       "      <td>362.806020</td>\n",
       "      <td>378.7304</td>\n",
       "      <td>360.383080</td>\n",
       "      <td>353.249231</td>\n",
       "    </tr>\n",
       "    <tr>\n",
       "      <th>4</th>\n",
       "      <td>369.326774</td>\n",
       "      <td>390.7304</td>\n",
       "      <td>363.568921</td>\n",
       "      <td>358.441538</td>\n",
       "    </tr>\n",
       "  </tbody>\n",
       "</table>\n",
       "</div>"
      ],
      "text/plain": [
       "           s1        s2          s3          s4\n",
       "0  406.821114  414.7304  373.126443  375.749231\n",
       "1  393.779605  390.7304  363.568921  365.364615\n",
       "2  370.956963  378.7304  360.383080  358.441538\n",
       "3  362.806020  378.7304  360.383080  353.249231\n",
       "4  369.326774  390.7304  363.568921  358.441538"
      ]
     },
     "execution_count": 15,
     "metadata": {},
     "output_type": "execute_result"
    }
   ],
   "source": [
    "sensors.head()"
   ]
  },
  {
   "cell_type": "code",
   "execution_count": 16,
   "metadata": {},
   "outputs": [],
   "source": [
    "#to substract the first time value from all time values:\n",
    "time = time - time[0]"
   ]
  },
  {
   "cell_type": "code",
   "execution_count": 17,
   "metadata": {},
   "outputs": [
    {
     "data": {
      "text/plain": [
       "0    0.000\n",
       "1    0.999\n",
       "2    2.986\n",
       "3    5.856\n",
       "4    6.855\n",
       "Name: time, dtype: float64"
      ]
     },
     "execution_count": 17,
     "metadata": {},
     "output_type": "execute_result"
    }
   ],
   "source": [
    "time.head()"
   ]
  },
  {
   "cell_type": "code",
   "execution_count": 19,
   "metadata": {},
   "outputs": [
    {
     "name": "stdout",
     "output_type": "stream",
     "text": [
      "0    392.606797\n",
      "1    378.360885\n",
      "2    367.127995\n",
      "dtype: float64\n",
      "s1    382.153393\n",
      "s2    391.840400\n",
      "s3    364.279629\n",
      "dtype: float64\n"
     ]
    }
   ],
   "source": [
    "#calculate the average of rows and columns:\n",
    "import numpy as np\n",
    "avg_row = np.mean(sensors, 1)\n",
    "avg_col = np.mean(sensors, 0)\n",
    "print(avg_row[:3])\n",
    "print(avg_col[:3])"
   ]
  },
  {
   "cell_type": "code",
   "execution_count": 27,
   "metadata": {},
   "outputs": [
    {
     "data": {
      "text/html": [
       "<div>\n",
       "<style scoped>\n",
       "    .dataframe tbody tr th:only-of-type {\n",
       "        vertical-align: middle;\n",
       "    }\n",
       "\n",
       "    .dataframe tbody tr th {\n",
       "        vertical-align: top;\n",
       "    }\n",
       "\n",
       "    .dataframe thead th {\n",
       "        text-align: right;\n",
       "    }\n",
       "</style>\n",
       "<table border=\"1\" class=\"dataframe\">\n",
       "  <thead>\n",
       "    <tr style=\"text-align: right;\">\n",
       "      <th></th>\n",
       "      <th>time</th>\n",
       "      <th>s1</th>\n",
       "      <th>s2</th>\n",
       "      <th>s3</th>\n",
       "      <th>s4</th>\n",
       "      <th>0</th>\n",
       "    </tr>\n",
       "  </thead>\n",
       "  <tbody>\n",
       "    <tr>\n",
       "      <th>0</th>\n",
       "      <td>0.000</td>\n",
       "      <td>406.821114</td>\n",
       "      <td>414.7304</td>\n",
       "      <td>373.126443</td>\n",
       "      <td>375.749231</td>\n",
       "      <td>392.606797</td>\n",
       "    </tr>\n",
       "    <tr>\n",
       "      <th>1</th>\n",
       "      <td>0.999</td>\n",
       "      <td>393.779605</td>\n",
       "      <td>390.7304</td>\n",
       "      <td>363.568921</td>\n",
       "      <td>365.364615</td>\n",
       "      <td>378.360885</td>\n",
       "    </tr>\n",
       "    <tr>\n",
       "      <th>2</th>\n",
       "      <td>2.986</td>\n",
       "      <td>370.956963</td>\n",
       "      <td>378.7304</td>\n",
       "      <td>360.383080</td>\n",
       "      <td>358.441538</td>\n",
       "      <td>367.127995</td>\n",
       "    </tr>\n",
       "    <tr>\n",
       "      <th>3</th>\n",
       "      <td>5.856</td>\n",
       "      <td>362.806020</td>\n",
       "      <td>378.7304</td>\n",
       "      <td>360.383080</td>\n",
       "      <td>353.249231</td>\n",
       "      <td>363.792183</td>\n",
       "    </tr>\n",
       "    <tr>\n",
       "      <th>4</th>\n",
       "      <td>6.855</td>\n",
       "      <td>369.326774</td>\n",
       "      <td>390.7304</td>\n",
       "      <td>363.568921</td>\n",
       "      <td>358.441538</td>\n",
       "      <td>370.516908</td>\n",
       "    </tr>\n",
       "  </tbody>\n",
       "</table>\n",
       "</div>"
      ],
      "text/plain": [
       "    time          s1        s2          s3          s4           0\n",
       "0  0.000  406.821114  414.7304  373.126443  375.749231  392.606797\n",
       "1  0.999  393.779605  390.7304  363.568921  365.364615  378.360885\n",
       "2  2.986  370.956963  378.7304  360.383080  358.441538  367.127995\n",
       "3  5.856  362.806020  378.7304  360.383080  353.249231  363.792183\n",
       "4  6.855  369.326774  390.7304  363.568921  358.441538  370.516908"
      ]
     },
     "execution_count": 27,
     "metadata": {},
     "output_type": "execute_result"
    }
   ],
   "source": [
    "#concatenate all the data together, putting the average values for each row on the right side of the sensors columns\n",
    "my_data = [time, sensors, avg_row]\n",
    "result = pd.concat(my_data, axis=1) #the axis 1 here means to put all 3 things stacked column wise from left to right.\n",
    "#the axis = 0 would mean to stack the data row wise, on top of each other.\n",
    "result.head()"
   ]
  },
  {
   "cell_type": "code",
   "execution_count": 32,
   "metadata": {},
   "outputs": [
    {
     "data": {
      "text/html": [
       "<div>\n",
       "<style scoped>\n",
       "    .dataframe tbody tr th:only-of-type {\n",
       "        vertical-align: middle;\n",
       "    }\n",
       "\n",
       "    .dataframe tbody tr th {\n",
       "        vertical-align: top;\n",
       "    }\n",
       "\n",
       "    .dataframe thead th {\n",
       "        text-align: right;\n",
       "    }\n",
       "</style>\n",
       "<table border=\"1\" class=\"dataframe\">\n",
       "  <thead>\n",
       "    <tr style=\"text-align: right;\">\n",
       "      <th></th>\n",
       "      <th>time</th>\n",
       "      <th>s1</th>\n",
       "      <th>s2</th>\n",
       "      <th>s3</th>\n",
       "      <th>s4</th>\n",
       "      <th>average</th>\n",
       "    </tr>\n",
       "  </thead>\n",
       "  <tbody>\n",
       "    <tr>\n",
       "      <th>0</th>\n",
       "      <td>0.000</td>\n",
       "      <td>406.821114</td>\n",
       "      <td>414.7304</td>\n",
       "      <td>373.126443</td>\n",
       "      <td>375.749231</td>\n",
       "      <td>392.606797</td>\n",
       "    </tr>\n",
       "    <tr>\n",
       "      <th>1</th>\n",
       "      <td>0.999</td>\n",
       "      <td>393.779605</td>\n",
       "      <td>390.7304</td>\n",
       "      <td>363.568921</td>\n",
       "      <td>365.364615</td>\n",
       "      <td>378.360885</td>\n",
       "    </tr>\n",
       "    <tr>\n",
       "      <th>2</th>\n",
       "      <td>2.986</td>\n",
       "      <td>370.956963</td>\n",
       "      <td>378.7304</td>\n",
       "      <td>360.383080</td>\n",
       "      <td>358.441538</td>\n",
       "      <td>367.127995</td>\n",
       "    </tr>\n",
       "    <tr>\n",
       "      <th>3</th>\n",
       "      <td>5.856</td>\n",
       "      <td>362.806020</td>\n",
       "      <td>378.7304</td>\n",
       "      <td>360.383080</td>\n",
       "      <td>353.249231</td>\n",
       "      <td>363.792183</td>\n",
       "    </tr>\n",
       "    <tr>\n",
       "      <th>4</th>\n",
       "      <td>6.855</td>\n",
       "      <td>369.326774</td>\n",
       "      <td>390.7304</td>\n",
       "      <td>363.568921</td>\n",
       "      <td>358.441538</td>\n",
       "      <td>370.516908</td>\n",
       "    </tr>\n",
       "  </tbody>\n",
       "</table>\n",
       "</div>"
      ],
      "text/plain": [
       "    time          s1        s2          s3          s4     average\n",
       "0  0.000  406.821114  414.7304  373.126443  375.749231  392.606797\n",
       "1  0.999  393.779605  390.7304  363.568921  365.364615  378.360885\n",
       "2  2.986  370.956963  378.7304  360.383080  358.441538  367.127995\n",
       "3  5.856  362.806020  378.7304  360.383080  353.249231  363.792183\n",
       "4  6.855  369.326774  390.7304  363.568921  358.441538  370.516908"
      ]
     },
     "execution_count": 32,
     "metadata": {},
     "output_type": "execute_result"
    }
   ],
   "source": [
    "#rename the column 0:\n",
    "result = result.rename({0:'average'}, axis='columns') #here axis =1 would have worked too\n",
    "result.head()"
   ]
  },
  {
   "cell_type": "code",
   "execution_count": 23,
   "metadata": {},
   "outputs": [],
   "source": [
    "#Can save the new dataframe (or can this be called a numpy array too?), using different possible routes:\n",
    "result.to_csv(\"result.csv\")\n",
    "#result.to_excel(\"result.xlsx\") #this one might need a module called 'openpyxl'\n",
    "result.to_html(\"result.htm\")\n",
    "#result.to_clipboard() #check why this doesn't work...?"
   ]
  },
  {
   "cell_type": "code",
   "execution_count": 34,
   "metadata": {},
   "outputs": [],
   "source": [
    "%matplotlib inline\n",
    "import matplotlib.pyplot as plt"
   ]
  },
  {
   "cell_type": "code",
   "execution_count": 38,
   "metadata": {},
   "outputs": [
    {
     "name": "stderr",
     "output_type": "stream",
     "text": [
      "/home/thuy/learning.python/my_venv/thuy/lib/python3.7/site-packages/ipykernel_launcher.py:4: UserWarning: Legend does not support 'S' instances.\n",
      "A proxy artist may be used instead.\n",
      "See: https://matplotlib.org/users/legend_guide.html#creating-artists-specifically-for-adding-to-the-legend-aka-proxy-artists\n",
      "  after removing the cwd from sys.path.\n",
      "/home/thuy/learning.python/my_venv/thuy/lib/python3.7/site-packages/ipykernel_launcher.py:4: UserWarning: Legend does not support 'e' instances.\n",
      "A proxy artist may be used instead.\n",
      "See: https://matplotlib.org/users/legend_guide.html#creating-artists-specifically-for-adding-to-the-legend-aka-proxy-artists\n",
      "  after removing the cwd from sys.path.\n",
      "/home/thuy/learning.python/my_venv/thuy/lib/python3.7/site-packages/ipykernel_launcher.py:4: UserWarning: Legend does not support 'n' instances.\n",
      "A proxy artist may be used instead.\n",
      "See: https://matplotlib.org/users/legend_guide.html#creating-artists-specifically-for-adding-to-the-legend-aka-proxy-artists\n",
      "  after removing the cwd from sys.path.\n",
      "/home/thuy/learning.python/my_venv/thuy/lib/python3.7/site-packages/ipykernel_launcher.py:4: UserWarning: Legend does not support 's' instances.\n",
      "A proxy artist may be used instead.\n",
      "See: https://matplotlib.org/users/legend_guide.html#creating-artists-specifically-for-adding-to-the-legend-aka-proxy-artists\n",
      "  after removing the cwd from sys.path.\n",
      "/home/thuy/learning.python/my_venv/thuy/lib/python3.7/site-packages/ipykernel_launcher.py:4: UserWarning: Legend does not support 'o' instances.\n",
      "A proxy artist may be used instead.\n",
      "See: https://matplotlib.org/users/legend_guide.html#creating-artists-specifically-for-adding-to-the-legend-aka-proxy-artists\n",
      "  after removing the cwd from sys.path.\n",
      "/home/thuy/learning.python/my_venv/thuy/lib/python3.7/site-packages/ipykernel_launcher.py:4: UserWarning: Legend does not support 'r' instances.\n",
      "A proxy artist may be used instead.\n",
      "See: https://matplotlib.org/users/legend_guide.html#creating-artists-specifically-for-adding-to-the-legend-aka-proxy-artists\n",
      "  after removing the cwd from sys.path.\n",
      "/home/thuy/learning.python/my_venv/thuy/lib/python3.7/site-packages/ipykernel_launcher.py:4: UserWarning: Legend does not support ' ' instances.\n",
      "A proxy artist may be used instead.\n",
      "See: https://matplotlib.org/users/legend_guide.html#creating-artists-specifically-for-adding-to-the-legend-aka-proxy-artists\n",
      "  after removing the cwd from sys.path.\n",
      "/home/thuy/learning.python/my_venv/thuy/lib/python3.7/site-packages/ipykernel_launcher.py:4: UserWarning: Legend does not support '1' instances.\n",
      "A proxy artist may be used instead.\n",
      "See: https://matplotlib.org/users/legend_guide.html#creating-artists-specifically-for-adding-to-the-legend-aka-proxy-artists\n",
      "  after removing the cwd from sys.path.\n"
     ]
    },
    {
     "data": {
      "image/png": "[encoded data removed]",
      "text/plain": [
       "<Figure size 432x288 with 1 Axes>"
      ]
     },
     "metadata": {
      "needs_background": "light"
     },
     "output_type": "display_data"
    }
   ],
   "source": [
    "plt.figure(1)\n",
    "plt.plot(time, sensors['s1'], 'r.')\n",
    "plt.plot(time, result['average'], 'b-') #here could have also done: plt.plot(time, avg_row, 'b-')\n",
    "plt.legend('Sensor 1', 'Sensors average')\n",
    "plt.xlabel('Time in secs')\n",
    "plt.ylabel('Sensor value')\n",
    "#plt.savefig('apmonitor_plot.png')\n",
    "plt.show()"
   ]
  },
  {
   "cell_type": "code",
   "execution_count": null,
   "metadata": {},
   "outputs": [],
   "source": []
  }
 ],
 "metadata": {
  "kernelspec": {
   "display_name": "Python 3",
   "language": "python",
   "name": "python3"
  },
  "language_info": {
   "codemirror_mode": {
    "name": "ipython",
    "version": 3
   },
   "file_extension": ".py",
   "mimetype": "text/x-python",
   "name": "python",
   "nbconvert_exporter": "python",
   "pygments_lexer": "ipython3",
   "version": "3.7.6"
  }
 },
 "nbformat": 4,
 "nbformat_minor": 4
}
